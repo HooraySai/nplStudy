{
 "cells": [
  {
   "cell_type": "code",
   "execution_count": 1,
   "outputs": [],
   "source": [
    "import collections\n",
    "import re\n",
    "\n",
    "\n",
    "alphabet = 'abcdefghijklmnopqrstuvwxyz'\n",
    "\n",
    "def train(features):\n",
    "    model = collections.defaultdict(lambda: 1)\n",
    "    for f in features:\n",
    "        model[f] += 1\n",
    "    return model\n",
    "\n",
    "def words(text):\n",
    "    return re.findall('[a-z]+', text.lower())\n",
    "\n",
    "\n",
    "NWORDS = train(words(open('data.txt', encoding='utf-8').read()))"
   ],
   "metadata": {
    "collapsed": false,
    "ExecuteTime": {
     "end_time": "2023-09-26T08:24:17.653722800Z",
     "start_time": "2023-09-26T08:24:17.649293Z"
    }
   },
   "id": "696b14ac5ebf8595"
  },
  {
   "cell_type": "code",
   "execution_count": 2,
   "outputs": [],
   "source": [
    "def edits1(word):\n",
    "    n = len(word)\n",
    "    return set(\n",
    "        # 缺少一个字母\n",
    "        [word[0:i]+word[i+1:] for i in range(n)] +\n",
    "        # 交换两个字母\n",
    "        [word[0:i] + word[i+1] +word[i] + word[i+2:] for i in range(n-1)] +\n",
    "        # 错一个字母\n",
    "        [word[0:i] + c + word[i+1:] for i in range(n) for c in alphabet] +\n",
    "        # 多一个字母\n",
    "        [word[0:i] + c + word[i:] for i in range(n+1) for c in alphabet]  \n",
    "    )"
   ],
   "metadata": {
    "collapsed": false,
    "ExecuteTime": {
     "end_time": "2023-09-26T08:24:18.228573600Z",
     "start_time": "2023-09-26T08:24:18.226572Z"
    }
   },
   "id": "24d08950cb7b580f"
  },
  {
   "cell_type": "code",
   "execution_count": 3,
   "outputs": [],
   "source": [
    "def edits2(word):\n",
    "    return set(e2 for e1 in edits1(word) for e2 in edits1(e1) if e2 in NWORDS)"
   ],
   "metadata": {
    "collapsed": false,
    "ExecuteTime": {
     "end_time": "2023-09-26T08:24:18.780124Z",
     "start_time": "2023-09-26T08:24:18.776612500Z"
    }
   },
   "id": "868f0d36c0dbc713"
  },
  {
   "cell_type": "code",
   "execution_count": 4,
   "outputs": [],
   "source": [
    "def known(words):\n",
    "    return set(w for w in words if w in NWORDS)\n",
    "\n",
    "\n",
    "def correct(word):\n",
    "    candidates = known([word]) or known(edits1(word)) or edits2(word) or [word]\n",
    "    return max(candidates, key=lambda w: NWORDS[w])"
   ],
   "metadata": {
    "collapsed": false,
    "ExecuteTime": {
     "end_time": "2023-09-26T08:24:19.315969100Z",
     "start_time": "2023-09-26T08:24:19.312964300Z"
    }
   },
   "id": "cdafce9839e55d"
  },
  {
   "cell_type": "code",
   "execution_count": 8,
   "outputs": [
    {
     "data": {
      "text/plain": "'are'"
     },
     "execution_count": 8,
     "metadata": {},
     "output_type": "execute_result"
    }
   ],
   "source": [
    "correct('arr')"
   ],
   "metadata": {
    "collapsed": false,
    "ExecuteTime": {
     "end_time": "2023-09-26T08:26:09.627753400Z",
     "start_time": "2023-09-26T08:26:09.624252Z"
    }
   },
   "id": "2f71d0cbdf4fa987"
  },
  {
   "cell_type": "code",
   "execution_count": null,
   "outputs": [],
   "source": [],
   "metadata": {
    "collapsed": false
   },
   "id": "74f177b42ad2fad"
  }
 ],
 "metadata": {
  "kernelspec": {
   "display_name": "Python 3",
   "language": "python",
   "name": "python3"
  },
  "language_info": {
   "codemirror_mode": {
    "name": "ipython",
    "version": 2
   },
   "file_extension": ".py",
   "mimetype": "text/x-python",
   "name": "python",
   "nbconvert_exporter": "python",
   "pygments_lexer": "ipython2",
   "version": "2.7.6"
  }
 },
 "nbformat": 4,
 "nbformat_minor": 5
}
