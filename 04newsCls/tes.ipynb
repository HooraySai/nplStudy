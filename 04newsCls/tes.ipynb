{
 "cells": [
  {
   "cell_type": "code",
   "execution_count": 2,
   "id": "initial_id",
   "metadata": {
    "collapsed": true,
    "ExecuteTime": {
     "end_time": "2023-09-27T11:54:55.055491800Z",
     "start_time": "2023-09-27T11:54:55.053495300Z"
    }
   },
   "outputs": [],
   "source": [
    "import pandas as pd\n",
    "import numpy as np\n"
   ]
  },
  {
   "cell_type": "code",
   "execution_count": 3,
   "outputs": [],
   "source": [
    "company=[\"A\",\"B\",\"C\"]\n",
    "data=pd.DataFrame({\n",
    "    \"company\":[company[x] for x in np.random.randint(0,len(company),10)],\n",
    "    \"salary\":np.random.randint(5,50,10),\n",
    "    \"age\":np.random.randint(15,50,10)\n",
    "}\n",
    ")\n"
   ],
   "metadata": {
    "collapsed": false,
    "ExecuteTime": {
     "end_time": "2023-09-27T11:55:22.223233200Z",
     "start_time": "2023-09-27T11:55:22.217486600Z"
    }
   },
   "id": "162b641237cb09fe"
  },
  {
   "cell_type": "code",
   "execution_count": 5,
   "outputs": [
    {
     "name": "stdout",
     "output_type": "stream",
     "text": [
      "  company  salary  age\n",
      "0       A      44   40\n",
      "1       B       5   34\n",
      "2       C      43   26\n",
      "3       B      42   23\n",
      "4       A      19   46\n",
      "5       C      44   49\n",
      "6       B       8   46\n",
      "7       A      25   23\n",
      "8       A      36   43\n",
      "9       A      28   48\n"
     ]
    }
   ],
   "source": [
    "print(data)"
   ],
   "metadata": {
    "collapsed": false,
    "ExecuteTime": {
     "end_time": "2023-09-27T11:59:39.564315600Z",
     "start_time": "2023-09-27T11:59:39.560319400Z"
    }
   },
   "id": "33eceb3593619722"
  },
  {
   "cell_type": "code",
   "execution_count": 6,
   "outputs": [],
   "source": [
    "group = data.groupby(by=\"company\")"
   ],
   "metadata": {
    "collapsed": false,
    "ExecuteTime": {
     "end_time": "2023-09-27T12:00:17.120705500Z",
     "start_time": "2023-09-27T12:00:17.117206900Z"
    }
   },
   "id": "2f9d50e463f8ecf1"
  },
  {
   "cell_type": "code",
   "execution_count": 8,
   "outputs": [
    {
     "name": "stdout",
     "output_type": "stream",
     "text": [
      "[('A',   company  salary  age\n",
      "0       A      44   40\n",
      "4       A      19   46\n",
      "7       A      25   23\n",
      "8       A      36   43\n",
      "9       A      28   48), ('B',   company  salary  age\n",
      "1       B       5   34\n",
      "3       B      42   23\n",
      "6       B       8   46), ('C',   company  salary  age\n",
      "2       C      43   26\n",
      "5       C      44   49)]\n"
     ]
    }
   ],
   "source": [
    "print(list(group))"
   ],
   "metadata": {
    "collapsed": false,
    "ExecuteTime": {
     "end_time": "2023-09-27T12:00:42.436054Z",
     "start_time": "2023-09-27T12:00:42.428020500Z"
    }
   },
   "id": "aab18fbcf16c2113"
  },
  {
   "cell_type": "code",
   "execution_count": 11,
   "outputs": [],
   "source": [
    "group2 = data.groupby(by=\"company\")['company']"
   ],
   "metadata": {
    "collapsed": false,
    "ExecuteTime": {
     "end_time": "2023-09-27T12:02:59.704871800Z",
     "start_time": "2023-09-27T12:02:59.700845400Z"
    }
   },
   "id": "cad24ee2d903805c"
  },
  {
   "cell_type": "code",
   "execution_count": 12,
   "outputs": [
    {
     "name": "stdout",
     "output_type": "stream",
     "text": [
      "[('A', 0    A\n",
      "4    A\n",
      "7    A\n",
      "8    A\n",
      "9    A\n",
      "Name: company, dtype: object), ('B', 1    B\n",
      "3    B\n",
      "6    B\n",
      "Name: company, dtype: object), ('C', 2    C\n",
      "5    C\n",
      "Name: company, dtype: object)]\n"
     ]
    }
   ],
   "source": [
    "print(list(group2))"
   ],
   "metadata": {
    "collapsed": false,
    "ExecuteTime": {
     "end_time": "2023-09-27T12:03:00.632027600Z",
     "start_time": "2023-09-27T12:03:00.628954500Z"
    }
   },
   "id": "e8b3d90da878"
  },
  {
   "cell_type": "code",
   "execution_count": 19,
   "outputs": [
    {
     "name": "stdout",
     "output_type": "stream",
     "text": [
      "         salary  age\n",
      "company             \n",
      "A             5    5\n",
      "B             3    3\n",
      "C             2    2\n"
     ]
    }
   ],
   "source": [
    "group3 = data.groupby(by=\"company\").agg('count')\n",
    "print(group3)"
   ],
   "metadata": {
    "collapsed": false,
    "ExecuteTime": {
     "end_time": "2023-09-28T09:22:36.855906800Z",
     "start_time": "2023-09-28T09:22:36.849514700Z"
    }
   },
   "id": "1a972f3d4d6d01a9"
  },
  {
   "cell_type": "code",
   "execution_count": null,
   "outputs": [],
   "source": [],
   "metadata": {
    "collapsed": false
   },
   "id": "21a2e119880e0b34"
  }
 ],
 "metadata": {
  "kernelspec": {
   "display_name": "Python 3",
   "language": "python",
   "name": "python3"
  },
  "language_info": {
   "codemirror_mode": {
    "name": "ipython",
    "version": 2
   },
   "file_extension": ".py",
   "mimetype": "text/x-python",
   "name": "python",
   "nbconvert_exporter": "python",
   "pygments_lexer": "ipython2",
   "version": "2.7.6"
  }
 },
 "nbformat": 4,
 "nbformat_minor": 5
}
