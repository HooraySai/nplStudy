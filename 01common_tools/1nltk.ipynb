{
 "cells": [
  {
   "cell_type": "code",
   "execution_count": 1,
   "id": "initial_id",
   "metadata": {
    "collapsed": true,
    "ExecuteTime": {
     "end_time": "2023-09-24T02:27:51.300595100Z",
     "start_time": "2023-09-24T02:27:50.431846200Z"
    }
   },
   "outputs": [],
   "source": [
    "import nltk"
   ]
  },
  {
   "cell_type": "code",
   "execution_count": 2,
   "outputs": [],
   "source": [
    "from nltk.tokenize import word_tokenize\n",
    "from nltk.text import Text"
   ],
   "metadata": {
    "collapsed": false,
    "ExecuteTime": {
     "end_time": "2023-09-24T02:28:24.970687Z",
     "start_time": "2023-09-24T02:28:24.957767600Z"
    }
   },
   "id": "5459ba2182957349"
  },
  {
   "cell_type": "code",
   "execution_count": 3,
   "outputs": [],
   "source": [
    "imput_str = \"Today is a sunny day.\""
   ],
   "metadata": {
    "collapsed": false,
    "ExecuteTime": {
     "end_time": "2023-09-24T02:29:06.202319800Z",
     "start_time": "2023-09-24T02:29:06.196822800Z"
    }
   },
   "id": "5b2e886bdb875a74"
  },
  {
   "cell_type": "code",
   "execution_count": 6,
   "outputs": [],
   "source": [
    "tokens = word_tokenize(imput_str)"
   ],
   "metadata": {
    "collapsed": false,
    "ExecuteTime": {
     "end_time": "2023-09-24T02:32:10.900805600Z",
     "start_time": "2023-09-24T02:32:10.892067600Z"
    }
   },
   "id": "6c249d1f5f880072"
  },
  {
   "cell_type": "code",
   "execution_count": 7,
   "outputs": [],
   "source": [
    "t = Text(tokens)"
   ],
   "metadata": {
    "collapsed": false,
    "ExecuteTime": {
     "end_time": "2023-09-24T02:32:54.096499700Z",
     "start_time": "2023-09-24T02:32:54.084919500Z"
    }
   },
   "id": "5e96887b19124cbf"
  },
  {
   "cell_type": "code",
   "execution_count": 8,
   "outputs": [
    {
     "data": {
      "text/plain": "1"
     },
     "execution_count": 8,
     "metadata": {},
     "output_type": "execute_result"
    }
   ],
   "source": [
    "t.count('is')"
   ],
   "metadata": {
    "collapsed": false,
    "ExecuteTime": {
     "end_time": "2023-09-24T02:33:28.938368900Z",
     "start_time": "2023-09-24T02:33:28.932206600Z"
    }
   },
   "id": "fc2362576cf270fd"
  },
  {
   "cell_type": "code",
   "execution_count": 9,
   "outputs": [
    {
     "data": {
      "text/plain": "1"
     },
     "execution_count": 9,
     "metadata": {},
     "output_type": "execute_result"
    }
   ],
   "source": [
    "t.index('is')"
   ],
   "metadata": {
    "collapsed": false,
    "ExecuteTime": {
     "end_time": "2023-09-24T02:33:49.100116400Z",
     "start_time": "2023-09-24T02:33:49.077686100Z"
    }
   },
   "id": "5aeb402def233f1f"
  },
  {
   "cell_type": "code",
   "execution_count": 10,
   "outputs": [
    {
     "data": {
      "text/plain": "<Figure size 640x480 with 1 Axes>",
      "image/png": "[encoded data removed]"
     },
     "metadata": {},
     "output_type": "display_data"
    },
    {
     "data": {
      "text/plain": "<Axes: xlabel='Samples', ylabel='Counts'>"
     },
     "execution_count": 10,
     "metadata": {},
     "output_type": "execute_result"
    }
   ],
   "source": [
    "t.plot(3)"
   ],
   "metadata": {
    "collapsed": false,
    "ExecuteTime": {
     "end_time": "2023-09-24T02:34:19.609290400Z",
     "start_time": "2023-09-24T02:34:18.836258500Z"
    }
   },
   "id": "84a83a0c7a932968"
  },
  {
   "cell_type": "code",
   "execution_count": null,
   "outputs": [],
   "source": [
    "# 停用词\n",
    "from nltk.corpus import stopwords\n",
    "stopwords.readme().replace('\\n', '')"
   ],
   "metadata": {
    "collapsed": false
   },
   "id": "6243096a978b46cd"
  },
  {
   "cell_type": "code",
   "execution_count": 14,
   "outputs": [
    {
     "data": {
      "text/plain": "['arabic',\n 'azerbaijani',\n 'basque',\n 'bengali',\n 'catalan',\n 'chinese',\n 'danish',\n 'dutch',\n 'english',\n 'finnish',\n 'french',\n 'german',\n 'greek',\n 'hebrew',\n 'hinglish',\n 'hungarian',\n 'indonesian',\n 'italian',\n 'kazakh',\n 'nepali',\n 'norwegian',\n 'portuguese',\n 'romanian',\n 'russian',\n 'slovene',\n 'spanish',\n 'swedish',\n 'tajik',\n 'turkish']"
     },
     "execution_count": 14,
     "metadata": {},
     "output_type": "execute_result"
    }
   ],
   "source": [
    "stopwords.fileids()"
   ],
   "metadata": {
    "collapsed": false,
    "ExecuteTime": {
     "end_time": "2023-09-24T02:40:14.315036100Z",
     "start_time": "2023-09-24T02:40:14.307627700Z"
    }
   },
   "id": "895d8413db95fbf0"
  },
  {
   "cell_type": "code",
   "execution_count": 15,
   "outputs": [
    {
     "data": {
      "text/plain": "\"i   me   my   myself   we   our   ours   ourselves   you   you're   you've   you'll   you'd   your   yours   yourself   yourselves   he   him   his   himself   she   she's   her   hers   herself   it   it's   its   itself   they   them   their   theirs   themselves   what   which   who   whom   this   that   that'll   these   those   am   is   are   was   were   be   been   being   have   has   had   having   do   does   did   doing   a   an   the   and   but   if   or   because   as   until   while   of   at   by   for   with   about   against   between   into   through   during   before   after   above   below   to   from   up   down   in   out   on   off   over   under   again   further   then   once   here   there   when   where   why   how   all   any   both   each   few   more   most   other   some   such   no   nor   not   only   own   same   so   than   too   very   s   t   can   will   just   don   don't   should   should've   now   d   ll   m   o   re   ve   y   ain   aren   aren't   couldn   couldn't   didn   didn't   doesn   doesn't   hadn   hadn't   hasn   hasn't   haven   haven't   isn   isn't   ma   mightn   mightn't   mustn   mustn't   needn   needn't   shan   shan't   shouldn   shouldn't   wasn   wasn't   weren   weren't   won   won't   wouldn   wouldn't   \""
     },
     "execution_count": 15,
     "metadata": {},
     "output_type": "execute_result"
    }
   ],
   "source": [
    "stopwords.raw('english').replace('\\n', \"   \")"
   ],
   "metadata": {
    "collapsed": false,
    "ExecuteTime": {
     "end_time": "2023-09-24T02:41:58.145322300Z",
     "start_time": "2023-09-24T02:41:58.131714700Z"
    }
   },
   "id": "c270e86bcab575b5"
  },
  {
   "cell_type": "code",
   "execution_count": 16,
   "outputs": [],
   "source": [
    "words = [word.lower() for word in tokens]"
   ],
   "metadata": {
    "collapsed": false,
    "ExecuteTime": {
     "end_time": "2023-09-24T02:45:07.679969900Z",
     "start_time": "2023-09-24T02:45:07.667262800Z"
    }
   },
   "id": "55228ccd91cccab9"
  },
  {
   "cell_type": "code",
   "execution_count": 17,
   "outputs": [],
   "source": [
    "# 词性标注\n",
    "from nltk import pos_tag"
   ],
   "metadata": {
    "collapsed": false,
    "ExecuteTime": {
     "end_time": "2023-09-24T02:46:37.764431Z",
     "start_time": "2023-09-24T02:46:37.754587200Z"
    }
   },
   "id": "8c06b8b6eb0d0415"
  },
  {
   "cell_type": "code",
   "execution_count": 20,
   "outputs": [],
   "source": [
    "tags = pos_tag(tokens)"
   ],
   "metadata": {
    "collapsed": false,
    "ExecuteTime": {
     "end_time": "2023-09-24T02:48:17.889964Z",
     "start_time": "2023-09-24T02:48:17.821105600Z"
    }
   },
   "id": "93390c28177b5d3c"
  },
  {
   "cell_type": "code",
   "execution_count": 22,
   "outputs": [],
   "source": [
    "# 分块\n",
    "from nltk.chunk import RegexpParser"
   ],
   "metadata": {
    "collapsed": false,
    "ExecuteTime": {
     "end_time": "2023-09-24T02:50:19.454660900Z",
     "start_time": "2023-09-24T02:50:19.442135300Z"
    }
   },
   "id": "a0040ff926cd7ac3"
  },
  {
   "cell_type": "code",
   "execution_count": 25,
   "outputs": [
    {
     "data": {
      "text/plain": "[('Today', 'NN'),\n ('is', 'VBZ'),\n ('a', 'DT'),\n ('sunny', 'JJ'),\n ('day', 'NN'),\n ('.', '.')]"
     },
     "execution_count": 25,
     "metadata": {},
     "output_type": "execute_result"
    }
   ],
   "source": [
    "tags"
   ],
   "metadata": {
    "collapsed": false,
    "ExecuteTime": {
     "end_time": "2023-09-24T03:58:05.208874Z",
     "start_time": "2023-09-24T03:58:05.198393400Z"
    }
   },
   "id": "87015b5f3bf91258"
  },
  {
   "cell_type": "code",
   "execution_count": 24,
   "outputs": [
    {
     "name": "stdout",
     "output_type": "stream",
     "text": [
      "(S (MY_NP Today/NN) is/VBZ (MY_NP a/DT sunny/JJ day/NN) ./.)\n"
     ]
    }
   ],
   "source": [
    "grammer = \"MY_NP: {<DT>?<JJ>*<NN>}\"\n",
    "cp = nltk.RegexpParser(grammer)\n",
    "result = cp.parse(tags)\n",
    "print(result)"
   ],
   "metadata": {
    "collapsed": false,
    "ExecuteTime": {
     "end_time": "2023-09-24T03:52:33.712433Z",
     "start_time": "2023-09-24T03:52:33.702007100Z"
    }
   },
   "id": "8387473dd24bb9b0"
  },
  {
   "cell_type": "code",
   "execution_count": 32,
   "outputs": [
    {
     "name": "stdout",
     "output_type": "stream",
     "text": [
      "(S\n",
      "  (PERSON Sai/NNP)\n",
      "  went/VBD\n",
      "  to/TO\n",
      "  (ORGANIZATION GuangXi/NNP)\n",
      "  province/NN\n",
      "  today/NN)\n"
     ]
    }
   ],
   "source": [
    "# 命名实体识别\n",
    "from nltk import ne_chunk\n",
    "sen = \"Sai went to GuangXi province today\"\n",
    "print(ne_chunk(pos_tag(word_tokenize(sen))))"
   ],
   "metadata": {
    "collapsed": false,
    "ExecuteTime": {
     "end_time": "2023-09-24T04:00:34.573294100Z",
     "start_time": "2023-09-24T04:00:34.565054500Z"
    }
   },
   "id": "165bb612d766ad17"
  },
  {
   "cell_type": "code",
   "execution_count": 31,
   "outputs": [
    {
     "name": "stderr",
     "output_type": "stream",
     "text": [
      "[nltk_data] Downloading package words to\n",
      "[nltk_data]     C:\\Users\\Sai\\AppData\\Roaming\\nltk_data...\n",
      "[nltk_data]   Unzipping corpora\\words.zip.\n"
     ]
    },
    {
     "data": {
      "text/plain": "True"
     },
     "execution_count": 31,
     "metadata": {},
     "output_type": "execute_result"
    }
   ],
   "source": [
    "# 数据清洗实例\n"
   ],
   "metadata": {
    "collapsed": false,
    "ExecuteTime": {
     "end_time": "2023-09-24T04:00:24.882996800Z",
     "start_time": "2023-09-24T04:00:16.861026300Z"
    }
   },
   "id": "3d5f32ca06368fe1"
  },
  {
   "cell_type": "code",
   "execution_count": null,
   "outputs": [],
   "source": [],
   "metadata": {
    "collapsed": false,
    "is_executing": true
   },
   "id": "e902adae735518b8"
  },
  {
   "cell_type": "code",
   "execution_count": null,
   "outputs": [],
   "source": [],
   "metadata": {
    "collapsed": false
   },
   "id": "43c05377ccde7ba9"
  }
 ],
 "metadata": {
  "kernelspec": {
   "display_name": "Python 3",
   "language": "python",
   "name": "python3"
  },
  "language_info": {
   "codemirror_mode": {
    "name": "ipython",
    "version": 2
   },
   "file_extension": ".py",
   "mimetype": "text/x-python",
   "name": "python",
   "nbconvert_exporter": "python",
   "pygments_lexer": "ipython2",
   "version": "2.7.6"
  }
 },
 "nbformat": 4,
 "nbformat_minor": 5
}
